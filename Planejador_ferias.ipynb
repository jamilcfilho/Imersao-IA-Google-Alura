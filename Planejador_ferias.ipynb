{
  "cells": [
    {
      "cell_type": "markdown",
      "metadata": {
        "id": "view-in-github",
        "colab_type": "text"
      },
      "source": [
        "<a href=\"https://colab.research.google.com/github/jamilcfilho/Imersao-IA-Google-Alura/blob/main/Planejador_ferias.ipynb\" target=\"_parent\"><img src=\"https://colab.research.google.com/assets/colab-badge.svg\" alt=\"Open In Colab\"/></a>"
      ]
    },
    {
      "cell_type": "markdown",
      "metadata": {
        "id": "EeNshnukpZJ-"
      },
      "source": [
        "Instalação do SDK"
      ]
    },
    {
      "cell_type": "code",
      "execution_count": 1,
      "metadata": {
        "id": "5kymiWzToJbG"
      },
      "outputs": [],
      "source": [
        "!pip install -q -U google-generativeai"
      ]
    },
    {
      "cell_type": "markdown",
      "metadata": {
        "id": "gTPQdHIUD9SE"
      },
      "source": [
        "Importação de bibliotecas"
      ]
    },
    {
      "cell_type": "code",
      "execution_count": 2,
      "metadata": {
        "id": "pWV4ltigD8jg"
      },
      "outputs": [],
      "source": [
        "import google.generativeai as genai\n",
        "import pathlib\n",
        "import textwrap\n",
        "from IPython.display import display\n",
        "from IPython.display import Markdown"
      ]
    },
    {
      "cell_type": "markdown",
      "metadata": {
        "id": "xqG4Ed3gp24P"
      },
      "source": [
        "Configurando a API Key"
      ]
    },
    {
      "cell_type": "code",
      "execution_count": 3,
      "metadata": {
        "id": "atkCNMW4p9dh"
      },
      "outputs": [],
      "source": [
        "from google.colab import userdata\n",
        "api_key = userdata.get('GOOGLE_API_KEY')\n",
        "genai.configure(api_key=api_key)"
      ]
    },
    {
      "cell_type": "markdown",
      "metadata": {
        "id": "ydGAc4zOFMC0"
      },
      "source": [
        "Listando os tipos de modelos do Gemini API disponíveis para utilização"
      ]
    },
    {
      "cell_type": "code",
      "execution_count": 4,
      "metadata": {
        "id": "44U1SiCaFMim",
        "colab": {
          "base_uri": "https://localhost:8080/",
          "height": 139
        },
        "outputId": "10bf9074-6653-450c-d485-2272cf702a07"
      },
      "outputs": [
        {
          "output_type": "stream",
          "name": "stdout",
          "text": [
            "models/gemini-1.0-pro\n",
            "models/gemini-1.0-pro-001\n",
            "models/gemini-1.0-pro-latest\n",
            "models/gemini-1.0-pro-vision-latest\n",
            "models/gemini-1.5-pro-latest\n",
            "models/gemini-pro\n",
            "models/gemini-pro-vision\n"
          ]
        }
      ],
      "source": [
        "for model in genai.list_models():\n",
        "  if 'generateContent' in model.supported_generation_methods:\n",
        "    print(model.name)"
      ]
    },
    {
      "cell_type": "markdown",
      "metadata": {
        "id": "wbKoyvrzEYYN"
      },
      "source": [
        "Gerenciando e parametrizando as configurações do modelo"
      ]
    },
    {
      "cell_type": "code",
      "execution_count": 5,
      "metadata": {
        "id": "vaf3U_H9EmS9"
      },
      "outputs": [],
      "source": [
        "# Configurações gerais\n",
        "generation_config = {\n",
        "    \"candidate_count\": 1,\n",
        "    \"temperature\": 0.3,\n",
        "}\n",
        "# Configurações de segurança\n",
        "safety_settings = {\n",
        "    \"HARASSMENT\": \"BLOCK_NONE\",\n",
        "    \"HATE\": \"BLOCK_NONE\",\n",
        "    \"SEXUAL\": \"BLOCK_NONE\",\n",
        "    \"DANGEROUS\": \"BLOCK_NONE\",\n",
        "}\n",
        "# Selecionando o tipo do modelo do Gemini e aplicando as configurações\n",
        "model = genai.GenerativeModel(model_name=\"gemini-1.0-pro\", generation_config=generation_config, safety_settings=safety_settings)"
      ]
    },
    {
      "cell_type": "markdown",
      "metadata": {
        "id": "GSt6AqqVGmGG"
      },
      "source": [
        "Desenvolvendo o modelo"
      ]
    },
    {
      "cell_type": "code",
      "execution_count": 22,
      "metadata": {
        "colab": {
          "base_uri": "https://localhost:8080/",
          "height": 1000
        },
        "id": "cKK_UmesGsZ1",
        "outputId": "7d7d9265-80ea-4819-b8f8-bc4b5c650631"
      },
      "outputs": [
        {
          "output_type": "display_data",
          "data": {
            "text/plain": [
              "<IPython.core.display.Markdown object>"
            ],
            "text/markdown": "##**Olá, bem vindo(a)! Pretendo te ajudar na escolha do seu próximo destino de férias!**"
          },
          "metadata": {}
        },
        {
          "output_type": "display_data",
          "data": {
            "text/plain": [
              "<IPython.core.display.Markdown object>"
            ],
            "text/markdown": "###*Farei algumas perguntas para entender as suas condições e irei sugerir seu destino.*"
          },
          "metadata": {}
        },
        {
          "output_type": "stream",
          "name": "stdout",
          "text": [
            "Qual o seu nome: Jamil\n",
            "Qual sua idade: 30\n",
            "Qual cidade você reside: São Carlos\n",
            "Qual o mês das suas férias: Maio\n",
            "Quantos dias pretende ficar viajando: 5\n",
            "\n",
            "Olá, Jamil! Segue a relação de destinos conforme sua situação de férias: \n",
            " Destinos de Férias em Cidades para Pessoas de 30 Anos\n",
            "\n",
            "Brasil\n",
            "\n",
            " Rio de Janeiro (5 dias)\n",
            "     Localização: Sudeste do Brasil\n",
            "     Previsão do tempo em maio: Ensolarado, com temperaturas médias entre 20°C e 28°C\n",
            "     Pontos turísticos famosos: Cristo Redentor, Pão de Açúcar, Praia de Copacabana\n",
            "     Melhor aeroporto: Aeroporto Internacional do Galeão (GIG)\n",
            "     Sites para comprar passagens: Gol, LATAM\n",
            "     Itinerário:\n",
            "         Dia 1: Chegue ao Rio e faça o check-in no hotel. Visite o Cristo Redentor e o Pão de Açúcar.\n",
            "         Dia 2: Explore a Praia de Copacabana e o Jardim Botânico.\n",
            "         Dia 3: Visite o Museu do Amanhã e o Museu de Arte do Rio.\n",
            "         Dia 4: Faça um passeio de barco pela Baía de Guanabara.\n",
            "         Dia 5: Aproveite o sol na Praia de Ipanema e retorne para casa.\n",
            "\n",
            " São Paulo (5 dias)\n",
            "     Localização: Sudeste do Brasil\n",
            "     Previsão do tempo em maio: Ensolarado, com temperaturas médias entre 16°C e 25°C\n",
            "     Pontos turísticos famosos: Avenida Paulista, Parque Ibirapuera, Museu de Arte de São Paulo (MASP)\n",
            "     Melhor aeroporto: Aeroporto Internacional de Guarulhos (GRU)\n",
            "     Sites para comprar passagens: Azul, Avianca\n",
            "     Itinerário:\n",
            "         Dia 1: Chegue a São Paulo e faça o check-in no hotel. Visite a Avenida Paulista e o Parque Ibirapuera.\n",
            "         Dia 2: Explore o MASP e o Museu da Língua Portuguesa.\n",
            "         Dia 3: Visite o Mercado Municipal e o bairro da Liberdade.\n",
            "         Dia 4: Faça um passeio de helicóptero pela cidade.\n",
            "         Dia 5: Aproveite as compras no Shopping Iguatemi e retorne para casa.\n",
            "\n",
            " Salvador (5 dias)\n",
            "     Localização: Nordeste do Brasil\n",
            "     Previsão do tempo em maio: Ensolarado, com temperaturas médias entre 22°C e 29°C\n",
            "     Pontos turísticos famosos: Pelourinho, Mercado Modelo, Praia do Porto da Barra\n",
            "     Melhor aeroporto: Aeroporto Internacional de Salvador (SSA)\n",
            "     Sites para comprar passagens: VoePass, Passaredo\n",
            "     Itinerário:\n",
            "         Dia 1: Chegue a Salvador e faça o check-in no hotel. Visite o Pelourinho e o Mercado Modelo.\n",
            "         Dia 2: Explore a Praia do Porto da Barra e o Farol da Barra.\n",
            "         Dia 3: Visite o Museu Afro-Brasileiro e o Museu da Misericórdia.\n",
            "         Dia 4: Faça um passeio de barco pela Baía de Todos os Santos.\n",
            "         Dia 5: Aproveite o sol na Praia de Ondina e retorne para casa.\n",
            "\n",
            "Exterior\n",
            "\n",
            " Lisboa, Portugal (5 dias)\n",
            "     Localização: Sudoeste da Europa\n",
            "     Previsão do tempo em maio: Ensolarado, com temperaturas médias entre 15°C e 22°C\n",
            "     Pontos turísticos famosos: Castelo de São Jorge, Torre de Belém, Mosteiro dos Jerónimos\n",
            "     Melhor aeroporto: Aeroporto Humberto Delgado (LIS)\n",
            "     Sites para comprar passagens: TAP Air Portugal, Ryanair\n",
            "     Itinerário:\n",
            "         Dia 1: Chegue a Lisboa e faça o check-in no hotel. Visite o Castelo de São Jorge e a Torre de Belém.\n",
            "         Dia 2: Explore o Mosteiro dos Jerónimos e o Museu Nacional do Azulejo.\n",
            "         Dia 3: Visite o bairro de Alfama e o Mercado da Ribeira.\n",
            "         Dia 4: Faça um passeio de bonde pelo centro da cidade.\n",
            "         Dia 5: Aproveite o sol na Praia de Cascais e retorne para casa.\n",
            "\n",
            " Barcelona, Espanha (5 dias)\n",
            "     Localização: Nordeste da Espanha\n",
            "     Previsão do tempo em maio: Ensolarado, com temperaturas médias entre 17°C e 25°C\n",
            "     Pontos turísticos famosos: Sagrada Família, Parque Güell, Las Ramblas\n",
            "     Melhor aeroporto: Aeroporto de Barcelona-El Prat (BCN)\n",
            "     Sites para comprar passagens: Vueling, Iberia\n",
            "     Itinerário:\n",
            "         Dia 1: Chegue a Barcelona e faça o check-in no hotel. Visite a Sagrada Família e o Parque Güell.\n",
            "         Dia 2: Explore Las Ramblas e o Mercado de La Boqueria.\n",
            "         Dia 3: Visite o Museu Picasso e o Museu Nacional de Arte da Catalunha.\n",
            "         Dia 4: Faça um passeio de bicicleta pelo litoral.\n",
            "         Dia 5: Aproveite o sol na Praia de Barceloneta e retorne para casa. \n",
            "\n",
            "\n",
            "Se consegui te ajudar e você decidiu o destino, digite 'fim' para finalizar, se não continue com mais perguntas ou dúvidas: Fale mais sobre o Rio de Janeiro\n",
            "\n",
            " Rio de Janeiro é uma cidade vibrante e icônica localizada no sudeste do Brasil. É conhecida por suas praias deslumbrantes, marcos famosos e cultura animada.\n",
            "\n",
            "Pontos Turísticos Famosos:\n",
            "\n",
            " Cristo Redentor: Uma estátua colossal de Jesus Cristo no topo do Morro do Corcovado, oferecendo vistas panorâmicas da cidade.\n",
            " Pão de Açúcar: Dois picos de granito conectados por um teleférico, proporcionando vistas deslumbrantes da Baía de Guanabara.\n",
            " Praia de Copacabana: Uma das praias mais famosas do mundo, conhecida por sua orla movimentada, areia branca e águas cristalinas.\n",
            " Praia de Ipanema: Outra praia popular, conhecida por seu ambiente descontraído, ondas perfeitas para surfe e vida noturna agitada.\n",
            " Floresta da Tijuca: Uma vasta floresta urbana que abriga uma rica biodiversidade, cachoeiras e trilhas para caminhadas.\n",
            " Jardim Botânico: Um oásis verde com uma coleção diversificada de plantas tropicais e um lago pitoresco.\n",
            " Santa Teresa: Um bairro boêmio e charmoso nas colinas, com ruas de paralelepípedos, casas coloridas e vistas deslumbrantes.\n",
            " Lapa: Um bairro animado conhecido por sua vida noturna, com bares, clubes e casas de samba.\n",
            "\n",
            "Cultura e Gastronomia:\n",
            "\n",
            "O Rio de Janeiro é um caldeirão cultural, com influências africanas, europeias e indígenas. A cidade é famosa por sua música, dança e arte, particularmente o samba e a bossa nova.\n",
            "\n",
            "A culinária carioca é uma mistura de sabores brasileiros e internacionais. Os pratos populares incluem feijoada (ensopado de feijão preto), churrasco (churrasco) e acarajé (bolinhos de feijão-fradinho fritos).\n",
            "\n",
            "Melhor Época para Visitar:\n",
            "\n",
            "O Rio de Janeiro pode ser visitado durante todo o ano, mas a melhor época para visitar é durante os meses de outono e primavera (março a maio e setembro a novembro), quando as temperaturas são mais amenas e há menos chuvas.\n",
            "\n",
            "Como Chegar:\n",
            "\n",
            "O Aeroporto Internacional do Galeão (GIG) é o principal aeroporto que atende ao Rio de Janeiro. A cidade também é acessível por ônibus e trem de outras partes do Brasil.\n",
            "\n",
            "Dicas de Viagem:\n",
            "\n",
            " Aprenda algumas frases básicas em português para melhorar sua experiência.\n",
            " Esteja ciente de seus arredores e tome precauções de segurança, especialmente à noite.\n",
            " Use protetor solar e repelente de insetos.\n",
            " Beba bastante água para se manter hidratado no clima tropical.\n",
            " Respeite a cultura local e os costumes. \n",
            "\n",
            "\n",
            "Se consegui te ajudar e você decidiu o destino, digite 'fim' para finalizar, se não continue com mais perguntas ou dúvidas: fim\n",
            "\n",
            " Obrigado por escolher meus serviços como agente de viagens. Espero que você tenha uma viagem maravilhosa ao Rio de Janeiro!\n",
            "\n",
            "Aqui estão algumas dicas adicionais para tornar sua viagem ainda mais agradável:\n",
            "\n",
            " Compre um Rio City Pass: Este passe oferece acesso a várias atrações populares, como o Cristo Redentor, o Pão de Açúcar e o Jardim Botânico, além de transporte público ilimitado.\n",
            " Aprenda a dançar samba: O samba é um ritmo contagiante e uma parte essencial da cultura carioca. Existem muitas escolas de samba que oferecem aulas para visitantes.\n",
            " Visite o Museu do Amanhã: Este museu interativo explora questões científicas e tecnológicas contemporâneas de forma envolvente e inspiradora.\n",
            " Faça um passeio de favela: As favelas do Rio de Janeiro são comunidades vibrantes e resilientes. Existem vários passeios guiados que oferecem uma visão autêntica da vida nas favelas.\n",
            " Aproveite a vida noturna: O Rio de Janeiro tem uma vida noturna agitada, com bares, clubes e casas de samba para todos os gostos.\n",
            "\n",
            "Espero que essas dicas ajudem você a aproveitar ao máximo sua viagem ao Rio! \n",
            "\n"
          ]
        }
      ],
      "source": [
        "chat = model.start_chat(history = [])\n",
        "\n",
        "# Mensagem de boas vindas\n",
        "display(Markdown(\"##**Olá, bem vindo(a)! Pretendo te ajudar na escolha do seu próximo destino de férias!**\"))\n",
        "display(Markdown(\"###*Farei algumas perguntas para entender as suas condições e irei sugerir seu destino.*\"))\n",
        "\n",
        "# Perguntas\n",
        "question1 = input(\"Qual o seu nome: \")\n",
        "question2 = input(\"Qual sua idade: \")\n",
        "question3 = input(\"Qual cidade você reside: \")\n",
        "question4 = input(\"Qual o mês das suas férias: \")\n",
        "question5 = input(\"Quantos dias pretende ficar viajando: \")\n",
        "\n",
        "# Indicando qual o caminho de raciocínio que o modelo deve seguir\n",
        "system_instruction = \"Seja como um agente de viagens e indique 5 destinos de férias em cidades, sendo 3 deles no Brasil e os outros 2 para o exterior conforme a minha idade.\"\n",
        "\n",
        "# Realizando o comando para o modelo conforme as perguntas realizadas e respondidas anteriormente\n",
        "prompt = f\"Tenho {question2} anos e moro na cidade de {question3}, pretendo viajar de férias no mês {question4} e ficarei viajando por {question5} dias. Me me dê a localização, qual será a previsão do tempo nesse período, alguns pontos turisticos mais famosos do destino, qual o melhor aeroporto para chegar ao destino, sugestão de sites para comprar as passagens e um itinerário de viagem conforme a quantidade de dias que ficarei viajando.\"\n",
        "\n",
        "# Gerando e imprimindo a primeira resposta com o caminho de raciocinio junto do comando através das respostas\n",
        "response = chat.send_message(system_instruction + prompt)\n",
        "print(f\"\\nOlá, {question1}! Segue a relação de destinos conforme sua situação de férias: \\n\", response.text.replace('*', ''), \"\\n\")\n",
        "\n",
        "# Continuar o chat até o usuário digitar a palavra 'fim'\n",
        "while prompt != \"fim\":\n",
        "  prompt = input(\"\\nSe consegui te ajudar e você decidiu o destino, digite 'fim' para finalizar, se não continue com mais perguntas ou dúvidas: \")\n",
        "  response = chat.send_message(prompt)\n",
        "  print(\"\\n\", response.text.replace('*', ''), \"\\n\")\n"
      ]
    }
  ],
  "metadata": {
    "colab": {
      "provenance": [],
      "authorship_tag": "ABX9TyNkCUQTibsVP55gdktT7x31",
      "include_colab_link": true
    },
    "kernelspec": {
      "display_name": "Python 3",
      "name": "python3"
    },
    "language_info": {
      "name": "python"
    }
  },
  "nbformat": 4,
  "nbformat_minor": 0
}